{
 "cells": [
  {
   "cell_type": "markdown",
   "metadata": {},
   "source": [
    "<img src=\"https://bit.ly/2VnXWr2\" width=\"100\" align=\"left\">"
   ]
  },
  {
   "cell_type": "markdown",
   "metadata": {},
   "source": [
    "# The Snail and the Well\n",
    "\n",
    "A snail falls at the bottom of a 125 cm well. Each day the snail rises 30 cm. But at night, while sleeping, slides 20 cm because the walls are wet. How many days does it take for the snail to escape the well?\n",
    "\n",
    "**Hint**: The snail gets out of the well when it surpasses the 125cm of height.\n",
    "\n",
    "## Tools\n",
    "\n",
    "1. Loop: **while**\n",
    "2. Conditional statements: **if-else**\n",
    "3. Function: **print()**\n",
    "\n",
    "## Tasks\n",
    "\n",
    "#### 1. Assign the challenge data to variables with representative names: `well_height`, `daily_distance`, `nightly_distance` and `snail_position`."
   ]
  },
  {
   "cell_type": "code",
   "execution_count": 23,
   "metadata": {},
   "outputs": [],
   "source": [
    "well_height=125\n",
    "daily_distance=30\n",
    "nightly_distance=20\n",
    "snail_position=0"
   ]
  },
  {
   "cell_type": "markdown",
   "metadata": {},
   "source": [
    "#### 2. Create a variable `days` to keep count of the days that pass until the snail escapes the well. "
   ]
  },
  {
   "cell_type": "code",
   "execution_count": 24,
   "metadata": {},
   "outputs": [],
   "source": [
    "days=0"
   ]
  },
  {
   "cell_type": "markdown",
   "metadata": {},
   "source": [
    "#### 3. Find the solution to the challenge using the variables defined above. "
   ]
  },
  {
   "cell_type": "code",
   "execution_count": 25,
   "metadata": {},
   "outputs": [
    {
     "output_type": "stream",
     "name": "stdout",
     "text": [
      "1\n2\n3\n4\n5\n6\n7\n8\n9\n10\nsnail is out of the well\n"
     ]
    }
   ],
   "source": [
    "while snail_position < well_height:\n",
    "    snail_position += daily_distance\n",
    "    if snail_position >= well_height:\n",
    "        print (\"snail is out of the well\")\n",
    "    else:\n",
    "        snail_position -= nightly_distance\n",
    "        days+=1\n",
    "        print (days)"
   ]
  },
  {
   "cell_type": "markdown",
   "metadata": {},
   "source": [
    "#### 4. Print the solution."
   ]
  },
  {
   "cell_type": "code",
   "execution_count": 26,
   "metadata": {},
   "outputs": [
    {
     "output_type": "stream",
     "name": "stdout",
     "text": [
      "The snail is out of the well after 10 days\n"
     ]
    }
   ],
   "source": [
    "print(\"The snail is out of the well after\", days, \"days\")"
   ]
  },
  {
   "cell_type": "markdown",
   "metadata": {},
   "source": [
    "## Bonus\n",
    "The distance traveled by the snail each day is now defined by a list.\n",
    "```\n",
    "advance_cm = [30, 21, 33, 77, 44, 45, 23, 45, 12, 34, 55]\n",
    "```\n",
    "On the first day, the snail rises 30cm but during the night it slides 20cm. On the second day, the snail rises 21cm but during the night it slides 20cm, and so on. \n",
    "\n",
    "#### 1. How many days does it take for the snail to escape the well?\n",
    "Follow the same guidelines as in the previous challenge.\n",
    "\n",
    "**Hint**: Remember that the snail gets out of the well when it surpasses the 125cm of height."
   ]
  },
  {
   "cell_type": "code",
   "execution_count": 27,
   "metadata": {},
   "outputs": [
    {
     "output_type": "stream",
     "name": "stdout",
     "text": [
      "The snail is out of the well after 5 days\n[0, 10, 11, 24, 81, 105, 125]\n[10, 1, 13, 57, 24, 25]\n"
     ]
    }
   ],
   "source": [
    "snail_bonus_position=0\n",
    "days_bonus=0\n",
    "advance_cm = [30, 21, 33, 77, 44, 45, 23, 45, 12, 34, 55]\n",
    "daily_bonus_distance = advance_cm[int(days_bonus)]\n",
    "day_position = [0]\n",
    "day_progress = []\n",
    "\n",
    "while snail_bonus_position < well_height:\n",
    "    snail_bonus_position += int(advance_cm[int(days_bonus)])\n",
    "    progress=(int(advance_cm[int(days_bonus)]))- nightly_distance\n",
    "    day_progress.append(progress)\n",
    "    if snail_bonus_position > well_height:\n",
    "        day_position.append(125)\n",
    "    else:\n",
    "        snail_bonus_position -= nightly_distance\n",
    "        days_bonus+=1\n",
    "        day_position.append(snail_bonus_position)\n",
    "        \n",
    "print(\"The snail is out of the well after\", days_bonus, \"days\")\n",
    "print(day_position)\n",
    "print(day_progress)"
   ]
  },
  {
   "cell_type": "markdown",
   "metadata": {},
   "source": [
    "#### 2. What is its maximum displacement in one day? And its minimum? Calculate the displacement using only the travel distance of the days used to get out of the well. \n",
    "**Hint**: Remember that displacement means the total distance risen taking into account that the snail slides at night.  "
   ]
  },
  {
   "cell_type": "code",
   "execution_count": 28,
   "metadata": {},
   "outputs": [
    {
     "output_type": "stream",
     "name": "stdout",
     "text": [
      "Maximum displacement: 57\nMinimum displacement: 1\n"
     ]
    }
   ],
   "source": [
    "print(\"Maximum displacement:\", max(day_progress))\n",
    "print(\"Minimum displacement:\", min(day_progress))"
   ]
  },
  {
   "cell_type": "markdown",
   "metadata": {},
   "source": [
    "#### 3. What is its average progress? Take into account the snail slides at night."
   ]
  },
  {
   "cell_type": "code",
   "execution_count": 29,
   "metadata": {},
   "outputs": [
    {
     "output_type": "stream",
     "name": "stdout",
     "text": [
      "Average Progress: 21\n"
     ]
    }
   ],
   "source": [
    "average_displacement = int(sum(day_progress)/len(day_progress))\n",
    "print(\"Average Progress:\", average_displacement)"
   ]
  },
  {
   "cell_type": "markdown",
   "metadata": {},
   "source": [
    "#### 4. What is the standard deviation of its displacement? Take into account the snail slides at night."
   ]
  },
  {
   "cell_type": "code",
   "execution_count": 36,
   "metadata": {},
   "outputs": [
    {
     "output_type": "stream",
     "name": "stdout",
     "text": [
      "Day progress: [10, 1, 13, 57, 24, 25]\nAverage day progress: 21\nDay deviation: [121, 400, 64, 1296, 9, 16]\nVariance of displacement: 317\nStandard deviation of displacement: 17\n"
     ]
    }
   ],
   "source": [
    "print(\"Day progress:\", day_progress)\n",
    "print(\"Average day progress:\", average_displacement)\n",
    "deviation_displacement = []\n",
    "position = 0\n",
    "\n",
    "for daily_progress in day_progress:\n",
    "    deviation = ((int(average_displacement) - int(daily_progress))**2)\n",
    "    deviation_displacement.append(deviation)\n",
    "\n",
    "print(\"Day deviation:\", deviation_displacement)\n",
    "\n",
    "variance= int(sum(deviation_displacement)/len(deviation_displacement))\n",
    "print(\"Variance of displacement:\", variance)\n",
    "\n",
    "standard_deviation = int ((int(variance))**0.5)\n",
    "print(\"Standard deviation of displacement:\", standard_deviation)"
   ]
  },
  {
   "cell_type": "code",
   "execution_count": null,
   "metadata": {},
   "outputs": [],
   "source": []
  }
 ],
 "metadata": {
  "kernelspec": {
   "display_name": "Python 3",
   "language": "python",
   "name": "python3"
  },
  "language_info": {
   "codemirror_mode": {
    "name": "ipython",
    "version": 3
   },
   "file_extension": ".py",
   "mimetype": "text/x-python",
   "name": "python",
   "nbconvert_exporter": "python",
   "pygments_lexer": "ipython3",
   "version": "3.8.5-final"
  }
 },
 "nbformat": 4,
 "nbformat_minor": 2
}